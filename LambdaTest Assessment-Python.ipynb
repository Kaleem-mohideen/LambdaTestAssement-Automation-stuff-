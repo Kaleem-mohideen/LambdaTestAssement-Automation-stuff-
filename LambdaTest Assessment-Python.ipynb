{
 "cells": [
  {
   "cell_type": "markdown",
   "id": "5d8b5c5a",
   "metadata": {},
   "source": [
    "# LambdaTest Assessment (Automation stuff)"
   ]
  },
  {
   "cell_type": "code",
   "execution_count": 1,
   "id": "79422589",
   "metadata": {},
   "outputs": [],
   "source": [
    "var = \"\"\"samsung,'OEM Samsung Washing Machine Pulsator Washplate Cap Shipped With WA48J7700AW, WA48J7700AW/A2, WA48J7700AW/AA',20916,samsung,'OEM Samsung Chrome Washing Machine Washplate Pulsator Cap Shipped With WA52M7750AV, WA52M7750AV/A4, WA52M7750AW, WA52M7750AW/A4',91995,samsung, 'SAMSUNG Washing Machine Spring Hanger, DC61-01257M', 22970,samsung,'Samsung DC97-17022B Assy Detergent',32959,samsung,'Samsung DC66-00470A DAMPER SHOCK',29981,samsung,'DC64-00519D Samsung Washing Machine Door Lock Washer Dryer Dishwashe -MP#GH4498 349Y49HBRG9109150',52000,samsung,'Samsung DC97-16991A Assembly Filter',13000\"\"\""
   ]
  },
  {
   "cell_type": "code",
   "execution_count": 2,
   "id": "03e921ac",
   "metadata": {},
   "outputs": [
    {
     "data": {
      "text/plain": [
       "\",samsung,'OEM Samsung Washing Machine Pulsator Washplate Cap Shipped With WA48J7700AW, WA48J7700AW/A2, WA48J7700AW/AA',20916,samsung,'OEM Samsung Chrome Washing Machine Washplate Pulsator Cap Shipped With WA52M7750AV, WA52M7750AV/A4, WA52M7750AW, WA52M7750AW/A4',91995,samsung, 'SAMSUNG Washing Machine Spring Hanger, DC61-01257M', 22970,samsung,'Samsung DC97-17022B Assy Detergent',32959,samsung,'Samsung DC66-00470A DAMPER SHOCK',29981,samsung,'DC64-00519D Samsung Washing Machine Door Lock Washer Dryer Dishwashe -MP#GH4498 349Y49HBRG9109150',52000,samsung,'Samsung DC97-16991A Assembly Filter',13000\""
      ]
     },
     "execution_count": 2,
     "metadata": {},
     "output_type": "execute_result"
    }
   ],
   "source": [
    "var = var.rjust(len(var)+1, ',') #adding comma to make split with reduntant string \",samsung,\"\n",
    "var"
   ]
  },
  {
   "cell_type": "code",
   "execution_count": 3,
   "id": "9710652b",
   "metadata": {},
   "outputs": [
    {
     "data": {
      "text/plain": [
       "[\"samsung,'OEM Samsung Washing Machine Pulsator Washplate Cap Shipped With WA48J7700AW, WA48J7700AW/A2, WA48J7700AW/AA',20916\",\n",
       " \"samsung,'OEM Samsung Chrome Washing Machine Washplate Pulsator Cap Shipped With WA52M7750AV, WA52M7750AV/A4, WA52M7750AW, WA52M7750AW/A4',91995\",\n",
       " \"samsung, 'SAMSUNG Washing Machine Spring Hanger, DC61-01257M', 22970\",\n",
       " \"samsung,'Samsung DC97-17022B Assy Detergent',32959\",\n",
       " \"samsung,'Samsung DC66-00470A DAMPER SHOCK',29981\",\n",
       " \"samsung,'DC64-00519D Samsung Washing Machine Door Lock Washer Dryer Dishwashe -MP#GH4498 349Y49HBRG9109150',52000\",\n",
       " \"samsung,'Samsung DC97-16991A Assembly Filter',13000\"]"
      ]
     },
     "execution_count": 3,
     "metadata": {},
     "output_type": "execute_result"
    }
   ],
   "source": [
    "newList = [\"samsung,\" + s for s in var.split(\",samsung,\")[1:]] # split and add the string again with removing a trailing comma.\n",
    "newList"
   ]
  },
  {
   "cell_type": "markdown",
   "id": "c0cc69f9",
   "metadata": {},
   "source": [
    "sort list elements----- based on last trailing digits at each elements of list"
   ]
  },
  {
   "cell_type": "code",
   "execution_count": 4,
   "id": "f0d4141f",
   "metadata": {},
   "outputs": [
    {
     "name": "stdout",
     "output_type": "stream",
     "text": [
      "samsung,'Samsung DC97-16991A Assembly Filter',13000\n",
      "\n",
      "samsung,'OEM Samsung Washing Machine Pulsator Washplate Cap Shipped With WA48J7700AW, WA48J7700AW/A2, WA48J7700AW/AA',20916\n",
      "\n",
      "samsung, 'SAMSUNG Washing Machine Spring Hanger, DC61-01257M', 22970\n",
      "\n",
      "samsung,'Samsung DC66-00470A DAMPER SHOCK',29981\n",
      "\n",
      "samsung,'Samsung DC97-17022B Assy Detergent',32959\n",
      "\n",
      "samsung,'DC64-00519D Samsung Washing Machine Door Lock Washer Dryer Dishwashe -MP#GH4498 349Y49HBRG9109150',52000\n",
      "\n",
      "samsung,'OEM Samsung Chrome Washing Machine Washplate Pulsator Cap Shipped With WA52M7750AV, WA52M7750AV/A4, WA52M7750AW, WA52M7750AW/A4',91995\n",
      "\n"
     ]
    }
   ],
   "source": [
    "import  re\n",
    "r = re.compile(\"\\d+$\")\n",
    "l = newList\n",
    "l.sort(key=lambda x: int(r.search(x).group()))\n",
    "for i in l:\n",
    "    print(i)\n",
    "    print() # extra print for space- to view ouput with clear"
   ]
  }
 ],
 "metadata": {
  "kernelspec": {
   "display_name": "Python 3",
   "language": "python",
   "name": "python3"
  },
  "language_info": {
   "codemirror_mode": {
    "name": "ipython",
    "version": 3
   },
   "file_extension": ".py",
   "mimetype": "text/x-python",
   "name": "python",
   "nbconvert_exporter": "python",
   "pygments_lexer": "ipython3",
   "version": "3.9.5"
  }
 },
 "nbformat": 4,
 "nbformat_minor": 5
}
